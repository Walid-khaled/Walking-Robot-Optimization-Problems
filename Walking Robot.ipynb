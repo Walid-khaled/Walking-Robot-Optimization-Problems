{
  "nbformat": 4,
  "nbformat_minor": 0,
  "metadata": {
    "colab": {
      "name": "CI_HW2_Walid_Shaker.ipynb",
      "provenance": [],
      "collapsed_sections": []
    },
    "kernelspec": {
      "name": "python3",
      "display_name": "Python 3"
    },
    "language_info": {
      "name": "python"
    }
  },
  "cells": [
    {
      "cell_type": "markdown",
      "source": [
        "## CVXPY Installation "
      ],
      "metadata": {
        "id": "loUbTxPiqxOY"
      }
    },
    {
      "cell_type": "code",
      "execution_count": 1,
      "metadata": {
        "colab": {
          "base_uri": "https://localhost:8080/"
        },
        "id": "ubN90K9b-Gqo",
        "outputId": "d9b0de2c-1428-4281-8c79-a0f387662c21"
      },
      "outputs": [
        {
          "output_type": "stream",
          "name": "stdout",
          "text": [
            "Requirement already satisfied: CVXPY in /usr/local/lib/python3.7/dist-packages (1.0.31)\n",
            "Requirement already satisfied: numpy>=1.15 in /usr/local/lib/python3.7/dist-packages (from CVXPY) (1.21.6)\n",
            "Requirement already satisfied: multiprocess in /usr/local/lib/python3.7/dist-packages (from CVXPY) (0.70.12.2)\n",
            "Requirement already satisfied: scipy>=1.1.0 in /usr/local/lib/python3.7/dist-packages (from CVXPY) (1.4.1)\n",
            "Requirement already satisfied: ecos>=2 in /usr/local/lib/python3.7/dist-packages (from CVXPY) (2.0.10)\n",
            "Requirement already satisfied: scs>=1.1.3 in /usr/local/lib/python3.7/dist-packages (from CVXPY) (3.2.0)\n",
            "Requirement already satisfied: osqp>=0.4.1 in /usr/local/lib/python3.7/dist-packages (from CVXPY) (0.6.2.post0)\n",
            "Requirement already satisfied: qdldl in /usr/local/lib/python3.7/dist-packages (from osqp>=0.4.1->CVXPY) (0.1.5.post2)\n",
            "Requirement already satisfied: dill>=0.3.4 in /usr/local/lib/python3.7/dist-packages (from multiprocess->CVXPY) (0.3.4)\n"
          ]
        }
      ],
      "source": [
        "!pip install CVXPY"
      ]
    },
    {
      "cell_type": "markdown",
      "source": [
        "## Import Libraries"
      ],
      "metadata": {
        "id": "yx8W-p93q2Mk"
      }
    },
    {
      "cell_type": "code",
      "source": [
        "import cvxpy as cp\n",
        "import numpy as np\n",
        "import scipy\n",
        "import matplotlib.pyplot as plt\n",
        "from mpl_toolkits.mplot3d import Axes3D\n",
        "from mpl_toolkits.mplot3d.art3d import Poly3DCollection\n",
        "%matplotlib inline"
      ],
      "metadata": {
        "id": "pphM9fvG-RK_"
      },
      "execution_count": 2,
      "outputs": []
    },
    {
      "cell_type": "markdown",
      "source": [
        "## Helper Functions \n"
      ],
      "metadata": {
        "id": "gDExp7e9vrrL"
      }
    },
    {
      "cell_type": "code",
      "source": [
        "def skew(vector):\n",
        "    \"\"\"\n",
        "    this function returns a numpy array with the skew symmetric cross product matrix for vector.\n",
        "    the skew symmetric cross product matrix is defined such that\n",
        "    np.cross(a, b) = np.dot(skew(a), b)\n",
        "\n",
        "    :param vector: An array like vector to create the skew symmetric cross product matrix for\n",
        "    :return: A numpy array of the skew symmetric cross product vector\n",
        "    \"\"\"\n",
        "    return np.array([[0, -vector[2], vector[1]], \n",
        "                     [vector[2], 0, -vector[0]], \n",
        "                     [-vector[1], vector[0], 0]])"
      ],
      "metadata": {
        "id": "R2kxGKyxvyVC"
      },
      "execution_count": 3,
      "outputs": []
    },
    {
      "cell_type": "markdown",
      "source": [
        "## TASK1: Horizontal ground\n",
        "\n",
        "Stability equations:\n",
        "\\begin{equation} \n",
        "\\begin{bmatrix} \n",
        "I_{3\\times3} & I_{3\\times3} & I_{3\\times3} & I_{3\\times3}\\\\ \n",
        "\\end{bmatrix} \\begin{bmatrix} \n",
        "f1\\\\ f2\\\\ f3\\\\ f4\\\\  \n",
        "\\end{bmatrix} = -mg\\\\ \n",
        "\\end{equation}\n",
        "\n",
        "\\begin{equation} \n",
        "\\begin{bmatrix} \n",
        "R1_{3\\times3} & R2_{3\\times3} & R3_{3\\times3} & R4_{3\\times3}\\\\ \n",
        "\\end{bmatrix} \\begin{bmatrix} \n",
        "f1\\\\ f2\\\\ f3\\\\ f4\\\\  \n",
        "\\end{bmatrix} =  0_{3\\times1}\\\\ \n",
        "\\end{equation}\n",
        "\n",
        "\n",
        "where $r_{c}$ is center of mass $r_{i}$ are position of the feet, $m$ is the mass of the robot, and $g$ = $\\begin{bmatrix}\n",
        "0\\\\\n",
        "0\\\\\n",
        "-9.8\n",
        "\\end{bmatrix}$ \n",
        "\n",
        "R is skew symmetric cross product matrix for vector such that \n",
        "\\begin{equation} \n",
        "(r_{i}-r_{c}){\\times}f_{i} = R f_{i}\n",
        "\\end{equation}\n",
        "\n",
        "\\begin{equation}\n",
        "R = \n",
        "\\begin{bmatrix}\n",
        "0 & -r_{z} & r_{y}\\\\\n",
        "r_{z} & 0 & -r_{x}\\\\\n",
        "-r_{y} & r_{x} & 0\n",
        "\\end{bmatrix}\n",
        "\\end{equation} \\\n",
        "\n",
        "Problem can be formulated as feasibility problem as follows:\\\n",
        "**Constraints**\n",
        "\\begin{equation} \n",
        "\\begin{bmatrix} \n",
        "I_{3\\times3} & I_{3\\times3} & I_{3\\times3} & I_{3\\times3}\\\\ \n",
        "R1_{3\\times3} & R2_{3\\times3} & R3_{3\\times3} & R4_{3\\times3}\n",
        "\\end{bmatrix} \\begin{bmatrix} \n",
        "f1\\\\ f2\\\\ f3\\\\ f4\\\\  \n",
        "\\end{bmatrix} = \n",
        "\\begin{bmatrix} -mg\\\\ 0_{3\\times1}\n",
        "\\end{bmatrix}\n",
        "\\end{equation}\n",
        "\n",
        "This can be written as \\begin{equation} Af = b \\tag{1}\\end{equation}\n",
        "\n",
        "and assuming that the reaction forces lie in the friction cone, with friction coefcient $\\mu$\n",
        "\n",
        "Let the normal to the plane is $n$ = $\\begin{bmatrix}\n",
        "0\\\\\n",
        "0\\\\\n",
        "1\n",
        "\\end{bmatrix}$ \n",
        "so, the tangential orthonormal basis that span the horizontal plane are $t$ = $\\begin{bmatrix}\n",
        "0 & -1\\\\\n",
        "1 & 0\\\\\n",
        "0 & 0\n",
        "\\end{bmatrix}$ \n",
        "\n",
        "\\begin{equation} \n",
        "\\lVert t^Tf_{i} \\rVert \\leq \\mu n^T f_{i} \\tag{2}\n",
        "\\end{equation} \n",
        "\n",
        "\n",
        "The optimazion problem: \n",
        "\\begin{aligned} \n",
        "\\min_{f} \\quad & 0\\\\ \n",
        "\\textrm{s.t.} \\quad & Af = b\\\\ \n",
        "  & \\lVert t^Tf_{i} \\rVert \\leq \\mu n^T f_{i}\n",
        "\\end{aligned}"
      ],
      "metadata": {
        "id": "Rk6vb-EfPB0N"
      }
    },
    {
      "cell_type": "markdown",
      "source": [
        ""
      ],
      "metadata": {
        "id": "z9Y59D16cF6u"
      }
    },
    {
      "cell_type": "markdown",
      "source": [
        "### 1.1 Problem assumptions "
      ],
      "metadata": {
        "id": "IaY__6Dlq-Cl"
      }
    },
    {
      "cell_type": "code",
      "source": [
        "m = 2\n",
        "g = np.array([0,0,-9.8])\n",
        "mu = 0.25"
      ],
      "metadata": {
        "id": "fTAfTRq45MDW"
      },
      "execution_count": 4,
      "outputs": []
    },
    {
      "cell_type": "markdown",
      "source": [
        "### 1.2 Define the horizontal plane  "
      ],
      "metadata": {
        "id": "hwKQEK28xAxH"
      }
    },
    {
      "cell_type": "code",
      "source": [
        "n = np.array([[0],[0],[1]])\n",
        "t = scipy.linalg.null_space(n.T)\n",
        "print(\"plane orthonormal basis:\\n\",t)"
      ],
      "metadata": {
        "colab": {
          "base_uri": "https://localhost:8080/"
        },
        "id": "3cvBgj-0v8NH",
        "outputId": "e1f19a84-3082-4e9a-c1d7-9fc7b526b3f7"
      },
      "execution_count": 29,
      "outputs": [
        {
          "output_type": "stream",
          "name": "stdout",
          "text": [
            "plane orthonormal basis:\n",
            " [[ 0. -1.]\n",
            " [ 1.  0.]\n",
            " [ 0.  0.]]\n"
          ]
        }
      ]
    },
    {
      "cell_type": "markdown",
      "source": [
        "### 1.3 Define feet positions and corresponding skew-symmeric matrices\n",
        "        \n"
      ],
      "metadata": {
        "id": "PUSXUrGmxb74"
      }
    },
    {
      "cell_type": "code",
      "source": [
        "r1 = np.dot(t, np.random.randint(5,size=(2,1)))\n",
        "r2 = np.dot(t, np.random.randint(5,size=(2,1)))\n",
        "r3 = np.dot(t, np.random.randint(5,size=(2,1)))\n",
        "r4 = np.dot(t, np.random.randint(5,size=(2,1)))\n",
        "\n",
        "xc = (r1[0][0] + r2[0][0] + r3[0][0] + r4[0][0])/4\n",
        "yc = (r1[1][0] + r2[1][0] + r3[1][0] + r4[1][0])/4\n",
        "zc = (r1[2][0] + r2[2][0] + r3[2][0] + r4[2][0])/4\n",
        "\n",
        "rc = np.array([[xc],[yc],[zc]])\n",
        "\n",
        "R1 = skew((r1-rc)[:,0])\n",
        "R2 = skew((r2-rc)[:,0])\n",
        "R3 = skew((r3-rc)[:,0])\n",
        "R4 = skew((r4-rc)[:,0])\n",
        "\n",
        "# r1 = np.array([0,0,0])\n",
        "# r2 = np.array([2,0,0])\n",
        "# r3 = np.array([2,2,0])\n",
        "# r4 = np.array([0,2,0])\n",
        "# rc = np.array([1,1,0])\n",
        "\n",
        "# R1 = skew(r1-rc)\n",
        "# R2 = skew(r2-rc)\n",
        "# R3 = skew(r3-rc)\n",
        "# R4 = skew(r4-rc)"
      ],
      "metadata": {
        "id": "Z9lzxc8ewde_"
      },
      "execution_count": 39,
      "outputs": []
    },
    {
      "cell_type": "code",
      "source": [
        "fig = plt.figure(figsize=(5,5))\n",
        "ax = fig.add_subplot(projection='3d')\n",
        "\n",
        "r = np.vstack([r1.T, r2.T, r3.T, r4.T])\n",
        "# r = np.vstack([r1, r2, r3, r4])\n",
        "vertices = [list(zip(r[:,0],r[:,1],r[:,2]))]\n",
        "poly = Poly3DCollection(vertices, alpha=0.3)\n",
        "ax.add_collection3d(poly)\n",
        "\n",
        "ax.scatter(xs = r[:,0], ys = r[:,1], zs = r[:,2], alpha=1, label = \"robot legs\")\n",
        "ax.scatter(rc[0],rc[1],rc[2], alpha=1, label = \"center of mass\") \n",
        "\n",
        "ax.set_xlim(-5,5)\n",
        "ax.set_ylim(-5,5)\n",
        "ax.set_zlim(0,3)\n",
        "ax.set_xlabel(\"x-axis\")\n",
        "ax.set_ylabel(\"y-axis\")\n",
        "ax.set_zlabel(\"z-axis\")\n",
        "plt.legend()\n",
        "plt.show()"
      ],
      "metadata": {
        "colab": {
          "base_uri": "https://localhost:8080/",
          "height": 303
        },
        "id": "7y7Se1PmrYWr",
        "outputId": "8ec57b26-0d0e-4f81-a308-b723cfbb218c"
      },
      "execution_count": 40,
      "outputs": [
        {
          "output_type": "display_data",
          "data": {
            "text/plain": [
              "<Figure size 360x360 with 1 Axes>"
            ],
            "image/png": "[encoded data removed]"
          },
          "metadata": {
            "needs_background": "light"
          }
        }
      ]
    },
    {
      "cell_type": "markdown",
      "source": [
        "### 1.4 Define A, b for the equality constraint"
      ],
      "metadata": {
        "id": "ItrTOnU4rc9B"
      }
    },
    {
      "cell_type": "code",
      "source": [
        "row1 = np.hstack([np.eye(3), np.eye(3), np.eye(3), np.eye(3)])\n",
        "row2 = np.hstack([R1, R2, R3, R4])\n",
        "A = np.vstack([row1, row2])\n",
        "b = np.hstack([-m*g, 0, 0, 0])"
      ],
      "metadata": {
        "id": "LwMGYO5c4NH8"
      },
      "execution_count": 41,
      "outputs": []
    },
    {
      "cell_type": "markdown",
      "source": [
        "### 1.5 Problem solution"
      ],
      "metadata": {
        "id": "CwgcvZ22rk8Q"
      }
    },
    {
      "cell_type": "code",
      "source": [
        "f = cp.Variable(12) #f1_x, f1_y, f1_z .... f4_z\n",
        "obj_function = 0\n",
        "constraint = [A@f==b]\n",
        "\n",
        "for i in range(0,12,3): \n",
        "  constraint += [cp.norm2(t.T@f[i:i+3]) <= mu*n.T@f[i:i+3]]\n",
        "\n",
        "obj = cp.Minimize(obj_function)\n",
        "proj = cp.Problem(obj, constraint)\n",
        "result = proj.solve()\n",
        "\n",
        "print(\"The problem status is\", proj.status)\n",
        "print(\"The optimal value is\", result) # The optimal objective value is returned by `proj.solve()`.\n",
        "print(f\"f1 = {f.value[0:3]}.T\") # The optimal value for f is stored in `f.value`.\n",
        "print(f\"f2 = {f.value[3:6]}.T\")\n",
        "print(f\"f3 = {f.value[6:9]}.T\")\n",
        "print(f\"f4 = {f.value[9:12]}.T\")"
      ],
      "metadata": {
        "colab": {
          "base_uri": "https://localhost:8080/"
        },
        "id": "AiCKXyNHDwrZ",
        "outputId": "345b6203-5aa5-4681-dc7e-499db593da0c"
      },
      "execution_count": 42,
      "outputs": [
        {
          "output_type": "stream",
          "name": "stdout",
          "text": [
            "The problem status is optimal\n",
            "The optimal value is 0.0\n",
            "f1 = [0.         0.         4.72265536].T\n",
            "f2 = [0.         0.         5.02667474].T\n",
            "f3 = [0.         0.         4.79866021].T\n",
            "f4 = [0.         0.         5.05200969].T\n"
          ]
        }
      ]
    },
    {
      "cell_type": "markdown",
      "source": [
        "## TASK2: Tilted ground\n",
        "\n",
        "To define the titled plane, let's introduce a random normal vector $n$ = $\\begin{bmatrix}\n",
        "0\\\\\n",
        "0\\\\\n",
        "1\n",
        "\\end{bmatrix} + random(3,1)$  \n",
        "\n",
        "After that get the normalized_n = $\\frac{n}{\\lVert n \\rVert}$\n",
        "\n",
        "Then get the tangential orthonormal basis that span the tilted plane $t=NullSpace(n^T)$  \\\n",
        "By taking the left null space of vector n, we will obtain matrix $t_{3\\times2} $ \n",
        "\n",
        "Generating random positions for the robot feet by making some random linear combinations of t basis as\n",
        "$r_{i} = t*random(2,1)$  \n",
        "\n",
        "For the skew symmetric matrix $R_{i} = $\\begin{bmatrix} (r_{i}-r_{c}) {\\times} \\end{bmatrix}\n",
        "\n",
        "The problem still can be formulated as feasibility problem as follows:\\\n",
        "**Constraints**\n",
        "\\begin{equation} \n",
        "\\begin{bmatrix} \n",
        "I_{3\\times3} & I_{3\\times3} & I_{3\\times3} & I_{3\\times3}\\\\ \n",
        "R1_{3\\times3} & R2_{3\\times3} & R3_{3\\times3} & R4_{3\\times3}\n",
        "\\end{bmatrix} \\begin{bmatrix} \n",
        "f1\\\\ f2\\\\ f3\\\\ f4\\\\  \n",
        "\\end{bmatrix} = \n",
        "\\begin{bmatrix} -mg\\\\ 0_{3\\times1}\n",
        "\\end{bmatrix}\n",
        "\\end{equation}\n",
        "\n",
        "This can be written as \\begin{equation} Af = b \\tag{1}\\end{equation}\n",
        "\n",
        "and assuming that the reaction forces lie in the friction cone, with friction coefcient $\\mu$\n",
        "\n",
        "\\begin{equation} \n",
        "\\lVert t^Tf_{i} \\rVert \\leq \\mu n^T f_{i} \\tag{2}\n",
        "\\end{equation} \n",
        "\n",
        "The optimazion problem: \n",
        "\\begin{aligned} \n",
        "\\min_{f} \\quad & 0\\\\ \n",
        "\\textrm{s.t.} \\quad & Af = b\\\\ \n",
        "  & \\lVert t^Tf_{i} \\rVert \\leq \\mu n^T f_{i}\n",
        "\\end{aligned}"
      ],
      "metadata": {
        "id": "h7mmS9Evn5Zt"
      }
    },
    {
      "cell_type": "markdown",
      "source": [
        "### 2.1 Problem assumptions "
      ],
      "metadata": {
        "id": "zmJ-7M8DsDMP"
      }
    },
    {
      "cell_type": "code",
      "source": [
        "m = 2\n",
        "g = np.array([0,0,-9.8])\n",
        "mu = 2.5"
      ],
      "metadata": {
        "id": "7H8Td9CHp-pZ"
      },
      "execution_count": 71,
      "outputs": []
    },
    {
      "cell_type": "markdown",
      "source": [
        "### 2.2 Define the tilted plane  "
      ],
      "metadata": {
        "id": "n3fn6TlksIMK"
      }
    },
    {
      "cell_type": "code",
      "source": [
        "# Normal vector to a tilted plane\n",
        "n = np.array([[0],[0],[1]]) + np.random.randn(3,1)\n",
        "n = n / np.sqrt(np.sum(n**2))\n",
        "print(\"normal vector: \\nn = \", n.T)\n",
        "\n",
        "# Orthonormal basis of the tilted plane \n",
        "t = scipy.linalg.null_space(n.T)\n",
        "print(\"\\nplane orthonormal basis:\\n\",t)\n",
        "\n",
        "# Check dot product = 0\n",
        "print(\"\\ndot product(t1.T, t2) = \", np.dot(t[:,0].T, t[:,1]))\n",
        "print(\"dot product(n.T, t1) = \", np.dot(n.T, t[:,0])[0])\n",
        "print(\"dot product(n.T, t2) = \", np.dot(n.T, t[:,1])[0])"
      ],
      "metadata": {
        "colab": {
          "base_uri": "https://localhost:8080/"
        },
        "id": "slon1cebYFvd",
        "outputId": "13fb7c37-e786-41cd-cf50-7b1b07f837fe"
      },
      "execution_count": 72,
      "outputs": [
        {
          "output_type": "stream",
          "name": "stdout",
          "text": [
            "normal vector: \n",
            "n =  [[-0.36107214 -0.7153266   0.59827649]]\n",
            "\n",
            "plane orthonormal basis:\n",
            " [[-0.7153266   0.59827649]\n",
            " [ 0.62405215  0.31443086]\n",
            " [ 0.31443086  0.73701999]]\n",
            "\n",
            "dot product(t1.T, t2) =  8.326672684688674e-17\n",
            "dot product(n.T, t1) =  -5.551115123125783e-17\n",
            "dot product(n.T, t2) =  5.551115123125783e-17\n"
          ]
        }
      ]
    },
    {
      "cell_type": "markdown",
      "source": [
        "### 2.3 Define feet positions and corresponding skew-symmeric matrices"
      ],
      "metadata": {
        "id": "zEWv_DPTsyw7"
      }
    },
    {
      "cell_type": "code",
      "source": [
        "r1 = np.dot(t, np.random.randn(2,1))\n",
        "r2 = np.dot(t, np.random.randn(2,1))\n",
        "r3 = np.dot(t, np.random.randn(2,1))\n",
        "r4 = np.dot(t, np.random.randn(2,1))\n",
        "\n",
        "xc = (r1[0][0] + r2[0][0] + r3[0][0] + r4[0][0])/4\n",
        "yc = (r1[1][0] + r2[1][0] + r3[1][0] + r4[1][0])/4\n",
        "zc = (r1[2][0] + r2[2][0] + r3[2][0] + r4[2][0])/4\n",
        "\n",
        "rc = np.array([[xc],[yc],[zc]])\n",
        "\n",
        "R1 = skew((r1-rc)[:,0])\n",
        "R2 = skew((r2-rc)[:,0])\n",
        "R3 = skew((r3-rc)[:,0])\n",
        "R4 = skew((r4-rc)[:,0])"
      ],
      "metadata": {
        "id": "15npMN_sse8j"
      },
      "execution_count": 73,
      "outputs": []
    },
    {
      "cell_type": "code",
      "source": [
        "fig = plt.figure(figsize=(5,5))\n",
        "ax = fig.add_subplot(projection='3d')\n",
        "\n",
        "r = np.vstack([r1.T, r2.T, r3.T, r4.T])\n",
        "vertices = [list(zip(r[:,0],r[:,1],r[:,2]))]\n",
        "poly = Poly3DCollection(vertices, alpha=0.2)\n",
        "ax.add_collection3d(poly)\n",
        "\n",
        "ax.scatter(xs = r[:,0], ys = r[:,1], zs = r[:,2], alpha=1, label = \"robot legs\")\n",
        "ax.scatter(xc,yc,zc, alpha=1, label = \"center of mass\") \n",
        "\n",
        "ax.set_xlim(-5,5)\n",
        "ax.set_ylim(-5,5)\n",
        "ax.set_zlim(0,3)\n",
        "ax.set_xlabel(\"x-axis\")\n",
        "ax.set_ylabel(\"y-axis\")\n",
        "ax.set_zlabel(\"z-axis\")\n",
        "plt.legend()\n",
        "plt.show()"
      ],
      "metadata": {
        "colab": {
          "base_uri": "https://localhost:8080/",
          "height": 303
        },
        "id": "c_JSTHNJzycp",
        "outputId": "1ff374c4-29fa-4e64-ee51-52557672de0f"
      },
      "execution_count": 74,
      "outputs": [
        {
          "output_type": "display_data",
          "data": {
            "text/plain": [
              "<Figure size 360x360 with 1 Axes>"
            ],
            "image/png": "[encoded data removed]"
          },
          "metadata": {
            "needs_background": "light"
          }
        }
      ]
    },
    {
      "cell_type": "markdown",
      "source": [
        "### 2.4 Define A , b for the equality constraint"
      ],
      "metadata": {
        "id": "7D_HJzBntHQ1"
      }
    },
    {
      "cell_type": "code",
      "source": [
        "row1 = np.hstack([np.eye(3), np.eye(3), np.eye(3), np.eye(3)])\n",
        "row2 = np.hstack([R1, R2, R3, R4])\n",
        "A = np.vstack([row1, row2])\n",
        "b = np.hstack([-m*g, 0, 0, 0])"
      ],
      "metadata": {
        "id": "Q2fQ-opopFow"
      },
      "execution_count": 75,
      "outputs": []
    },
    {
      "cell_type": "markdown",
      "source": [
        "### 2.5 Problem solution"
      ],
      "metadata": {
        "id": "H4gPwEXntXPJ"
      }
    },
    {
      "cell_type": "code",
      "source": [
        "f = cp.Variable(12) #f1_x, f1_y, f1_z .... f4_z\n",
        "obj_function = 0\n",
        "constraint = [A@f==b]\n",
        "\n",
        "for i in range(0,12,3): \n",
        "  constraint += [cp.norm2(t.T@f[i:i+3]) <= mu*n[:,0].T@f[i:i+3]]\n",
        "\n",
        "obj = cp.Minimize(obj_function)\n",
        "proj = cp.Problem(obj, constraint)\n",
        "result = proj.solve()\n",
        "\n",
        "print(\"The problem status is\", proj.status)\n",
        "print(\"The optimal value is\", result) # The optimal objective value is returned by `proj.solve()`.\n",
        "print(f\"f1 = {f.value[0:3]}.T\") # The optimal value for f is stored in `f.value`.\n",
        "print(f\"f2 = {f.value[3:6]}.T\")\n",
        "print(f\"f3 = {f.value[6:9]}.T\")\n",
        "print(f\"f4 = {f.value[9:12]}.T\")"
      ],
      "metadata": {
        "colab": {
          "base_uri": "https://localhost:8080/"
        },
        "id": "JO9gT-bmpOBc",
        "outputId": "2eacbf91-8124-4881-c17d-03f3eb6f67d4"
      },
      "execution_count": 77,
      "outputs": [
        {
          "output_type": "stream",
          "name": "stdout",
          "text": [
            "The problem status is optimal\n",
            "The optimal value is 0.0\n",
            "f1 = [0.03753015 0.01855974 4.95826524].T\n",
            "f2 = [0.00890092 0.00519051 4.93299467].T\n",
            "f3 = [0.04434614 0.0137798  4.91535817].T\n",
            "f4 = [-0.09077722 -0.03753005  4.79338192].T\n"
          ]
        }
      ]
    },
    {
      "cell_type": "markdown",
      "source": [
        "Note that the problem feasibility is not always guaranteed as it depends on the random generated feet positions on the tilted plane."
      ],
      "metadata": {
        "id": "ERIySPeN9A6b"
      }
    },
    {
      "cell_type": "markdown",
      "source": [
        "## TASK3: One foot on a vertical wall\n",
        "\n",
        "Assuming that 3 feet are standing on a horizontal plane $xy$ and the $4^{th}$ leg pushes against a vertical wall $yz$ plane. \\\n",
        "\n",
        "For the first 3 feet normal vector $n_{1-3}$ = $\\begin{bmatrix}\n",
        "0\\\\\n",
        "0\\\\\n",
        "1\n",
        "\\end{bmatrix}, t_{1-3} = \\begin{bmatrix}\n",
        "0 & -1\\\\\n",
        "1 & 0\\\\\n",
        "0 & 0\n",
        "\\end{bmatrix} $\n",
        "\n",
        "For the $4^{th}$ leg normal vector $n_{4}$ = $\\begin{bmatrix}\n",
        "-1\\\\\n",
        "0\\\\\n",
        "0\n",
        "\\end{bmatrix}, t_{4} = \\begin{bmatrix}\n",
        "0 & 0\\\\\n",
        "1 & 0\\\\\n",
        "0 & 1\n",
        "\\end{bmatrix} $\n",
        "\n",
        "\n",
        "The problem still can be formulated as feasibility problem as follows:\\\n",
        "**Constraints**\n",
        "\\begin{equation} \n",
        "\\begin{bmatrix} \n",
        "I_{3\\times3} & I_{3\\times3} & I_{3\\times3} & I_{3\\times3}\\\\ \n",
        "R1_{3\\times3} & R2_{3\\times3} & R3_{3\\times3} & R4_{3\\times3}\n",
        "\\end{bmatrix} \\begin{bmatrix} \n",
        "f1\\\\ f2\\\\ f3\\\\ f4\\\\  \n",
        "\\end{bmatrix} = \n",
        "\\begin{bmatrix} -mg\\\\ 0_{3\\times1}\n",
        "\\end{bmatrix}\n",
        "\\end{equation}\n",
        "\n",
        "This can be written as \\begin{equation} Af = b \\tag{1}\\end{equation}\n",
        "\n",
        "and assuming that the reaction forces lie in the friction cone, with friction coefcient $\\mu$ \\\n",
        "for $i = 1,2,3$\n",
        "\\begin{equation} \n",
        "\\lVert t^T_{1-3}f_{i} \\rVert \\leq \\mu n_{1-3}^T f_{i}\\tag{2}\n",
        "\\end{equation} \n",
        "\n",
        "for $i = 4$\n",
        "\\begin{equation} \n",
        "\\lVert t^T_{4}f_{4} \\rVert \\leq \\mu n_{4}^T f_{4}\\tag{3}\n",
        "\\end{equation} \n",
        "\n",
        "The optimazion problem: \n",
        "\\begin{aligned} \n",
        "\\min_{f} \\quad & 0\\\\ \n",
        "\\textrm{s.t.} \\quad & Af = b\\\\ \n",
        "  & \\lVert t^T_{1-3}f_{i} \\rVert \\leq \\mu n_{1-3}^T f_{i} \\\\\n",
        "  & \\lVert t^T_{4}f_{4} \\rVert \\leq \\mu n_{4}^T f_{4}\n",
        "\\end{aligned}"
      ],
      "metadata": {
        "id": "WDopI9GpB3TS"
      }
    },
    {
      "cell_type": "markdown",
      "source": [
        "### 3.1 Problem assumption"
      ],
      "metadata": {
        "id": "IYeD4RULD6eH"
      }
    },
    {
      "cell_type": "code",
      "source": [
        "m = 2\n",
        "g = np.array([0,0,-9.8])\n",
        "mu = 0.25"
      ],
      "metadata": {
        "id": "V9h-SmTe6U_S"
      },
      "execution_count": 78,
      "outputs": []
    },
    {
      "cell_type": "markdown",
      "source": [
        "### 3.2 Define the horizontal plane  "
      ],
      "metadata": {
        "id": "iMXwx_i06U_W"
      }
    },
    {
      "cell_type": "code",
      "source": [
        "n = np.array([[0],[0],[1]])\n",
        "t = scipy.linalg.null_space(n.T)\n",
        "print(\"plane orthonormal basis:\\n\",t)"
      ],
      "metadata": {
        "colab": {
          "base_uri": "https://localhost:8080/"
        },
        "outputId": "b478a769-b42e-499b-bcca-94dcfee24816",
        "id": "wFC7MAGT6U_Z"
      },
      "execution_count": 79,
      "outputs": [
        {
          "output_type": "stream",
          "name": "stdout",
          "text": [
            "plane orthonormal basis:\n",
            " [[ 0. -1.]\n",
            " [ 1.  0.]\n",
            " [ 0.  0.]]\n"
          ]
        }
      ]
    },
    {
      "cell_type": "markdown",
      "source": [
        "### 3.3 Define feet positions and corresponding skew-symmeric matrices\n",
        "        \n"
      ],
      "metadata": {
        "id": "Up-zza3b6U_d"
      }
    },
    {
      "cell_type": "code",
      "source": [
        "r1 = np.array([0,0,0])\n",
        "r2 = np.array([-4,0,0])\n",
        "r3 = np.array([-4,4,0])\n",
        "r4 = np.array([0,4,4])\n",
        "rc = np.array([-2,2,0])\n",
        "\n",
        "R1 = skew(r1-rc)\n",
        "R2 = skew(r2-rc)\n",
        "R3 = skew(r3-rc)\n",
        "R4 = skew(r4-rc)"
      ],
      "metadata": {
        "id": "G9_EoXgb6U_f"
      },
      "execution_count": 80,
      "outputs": []
    },
    {
      "cell_type": "code",
      "source": [
        "fig = plt.figure(figsize=(5,5))\n",
        "ax = fig.add_subplot(projection='3d')\n",
        "\n",
        "r = np.vstack([r1, r2, r3])\n",
        "vertices = [list(zip(r[:,0],r[:,1],r[:,2]))]\n",
        "poly = Poly3DCollection(vertices, alpha=0.3)\n",
        "ax.add_collection3d(poly)\n",
        "\n",
        "ax.scatter(xs = r[:,0], ys = r[:,1], zs = r[:,2], alpha=1, label = \"robot legs\")\n",
        "ax.scatter(rc[0],rc[1],rc[2], alpha=1, label = \"center of mass\") \n",
        "ax.scatter(r4[0],r4[1],r4[2], alpha=1, label = \"foot on vertical wall\")\n",
        "\n",
        "ax.set_xlim(-5,5)\n",
        "ax.set_ylim(-5,5)\n",
        "ax.set_zlim(0,5)\n",
        "ax.set_xlabel(\"x-axis\")\n",
        "ax.set_ylabel(\"y-axis\")\n",
        "ax.set_zlabel(\"z-axis\")\n",
        "ax.legend()\n",
        "plt.show()"
      ],
      "metadata": {
        "colab": {
          "base_uri": "https://localhost:8080/",
          "height": 303
        },
        "id": "7VSuyvFI5EIV",
        "outputId": "901439ff-4044-4515-acb6-8826a639b1bc"
      },
      "execution_count": 81,
      "outputs": [
        {
          "output_type": "display_data",
          "data": {
            "text/plain": [
              "<Figure size 360x360 with 1 Axes>"
            ],
            "image/png": "[encoded data removed]"
          },
          "metadata": {
            "needs_background": "light"
          }
        }
      ]
    },
    {
      "cell_type": "markdown",
      "source": [
        "### 3.4 Define A, b for the equality constraint"
      ],
      "metadata": {
        "id": "6kvl9oFX6U_h"
      }
    },
    {
      "cell_type": "code",
      "source": [
        "row1 = np.hstack([np.eye(3), np.eye(3), np.eye(3), np.eye(3)])\n",
        "row2 = np.hstack([R1, R2, R3, R4])\n",
        "A = np.vstack([row1, row2])\n",
        "b = np.hstack([-m*g, 0, 0, 0])"
      ],
      "metadata": {
        "id": "B7ZNn-QZ6U_l"
      },
      "execution_count": 82,
      "outputs": []
    },
    {
      "cell_type": "markdown",
      "source": [
        "### 3.5 Problem solution"
      ],
      "metadata": {
        "id": "B90RUv3y6U_m"
      }
    },
    {
      "cell_type": "code",
      "source": [
        "f = cp.Variable(12) #f1_x, f1_y, f1_z .... f4_z\n",
        "obj_function = 0\n",
        "constraint = [A@f==b]\n",
        "\n",
        "for i in range(0,9,3): \n",
        "  constraint += [cp.norm2(t.T@f[i:i+3]) <= mu*n.T@f[i:i+3]]\n",
        "\n",
        "G = np.array([[0,1,0],[0,0,1]])\n",
        "constraint += [cp.norm2(G@f[9:12]) <= mu*np.array([-1,0,0])@f[9:12]]\n",
        "\n",
        "obj = cp.Minimize(obj_function)\n",
        "proj = cp.Problem(obj, constraint)\n",
        "result = proj.solve()\n",
        "\n",
        "print(\"The problem status is\", proj.status)\n",
        "print(\"The optimal value is\", result) # The optimal objective value is returned by `proj.solve()`.\n",
        "print(f\"f1 = {f.value[0:3]}.T\") # The optimal value for f is stored in `f.value`.\n",
        "print(f\"f2 = {f.value[3:6]}.T\")\n",
        "print(f\"f3 = {f.value[6:9]}.T\")\n",
        "print(f\"f4 = {f.value[9:12]}.T\")"
      ],
      "metadata": {
        "colab": {
          "base_uri": "https://localhost:8080/"
        },
        "outputId": "75368f04-0fea-4152-effc-3165cfee39bb",
        "id": "fhfIJrhA6U_o"
      },
      "execution_count": 83,
      "outputs": [
        {
          "output_type": "stream",
          "name": "stdout",
          "text": [
            "The problem status is optimal\n",
            "The optimal value is 0.0\n",
            "f1 = [ 0.5183811  -0.4807061   7.69696292].T\n",
            "f2 = [0.0282039  0.02531794 2.16891598].T\n",
            "f3 = [1.42528175 0.52126707 9.60295078].T\n",
            "f4 = [-1.97186676 -0.0658789   0.13117032].T\n"
          ]
        }
      ]
    },
    {
      "cell_type": "markdown",
      "source": [
        "## TASK4: One foot nailed to the floor\n",
        "\n",
        "Assuming that the feet are standing on a horizontal plane $xy$, then the\n",
        "normal vector $n$ = $\\begin{bmatrix}\n",
        "0\\\\\n",
        "0\\\\\n",
        "1\n",
        "\\end{bmatrix}, t = \\begin{bmatrix}\n",
        "0 & -1\\\\\n",
        "1 & 0\\\\\n",
        "0 & 0\n",
        "\\end{bmatrix} $\n",
        "\n",
        "But the $4^{th}$ leg is nailed to the ground, so no friction cone for this leg.\n",
        "\n",
        "\n",
        "The problem still can be formulated as feasibility problem as follows:\\\n",
        "**Constraints**\n",
        "\\begin{equation} \n",
        "\\begin{bmatrix} \n",
        "I_{3\\times3} & I_{3\\times3} & I_{3\\times3} & I_{3\\times3}\\\\ \n",
        "R1_{3\\times3} & R2_{3\\times3} & R3_{3\\times3} & R4_{3\\times3}\n",
        "\\end{bmatrix} \\begin{bmatrix} \n",
        "f1\\\\ f2\\\\ f3\\\\ f4\\\\  \n",
        "\\end{bmatrix} = \n",
        "\\begin{bmatrix} -mg\\\\ 0_{3\\times1}\n",
        "\\end{bmatrix}\n",
        "\\end{equation}\n",
        "\n",
        "This can be written as \\begin{equation} Af = b \\tag{1}\\end{equation}\n",
        "\n",
        "and assuming that the reaction forces lie in the friction cone, with friction coefcient $\\mu$ \\\n",
        "for $i = 1,2,3$\n",
        "\\begin{equation} \n",
        "\\lVert t^T_{1-3}f_{i} \\rVert \\leq \\mu n_{1-3}^T f_{i}\\tag{2}\n",
        "\\end{equation} \n",
        "\n",
        "The optimazion problem: \n",
        "\\begin{aligned} \n",
        "\\min_{f} \\quad & 0\\\\ \n",
        "\\textrm{s.t.} \\quad & Af = b\\\\ \n",
        "  & \\lVert t^T_{1-3}f_{i} \\rVert \\leq \\mu n_{1-3}^T f_{i} \n",
        "\\end{aligned}"
      ],
      "metadata": {
        "id": "7Pr9x1yyCfYq"
      }
    },
    {
      "cell_type": "markdown",
      "source": [
        "### 4.1 Problem assumptions "
      ],
      "metadata": {
        "id": "bfDLdd4q7J7q"
      }
    },
    {
      "cell_type": "code",
      "source": [
        "m = 2\n",
        "g = np.array([0,0,-9.8])\n",
        "mu = 0.25"
      ],
      "metadata": {
        "id": "PqjehGo67J7s"
      },
      "execution_count": 22,
      "outputs": []
    },
    {
      "cell_type": "markdown",
      "source": [
        "### 4.2 Define the horizontal plane  "
      ],
      "metadata": {
        "id": "9JUw8OOh7J7t"
      }
    },
    {
      "cell_type": "code",
      "source": [
        "n = np.array([[0],[0],[1]])\n",
        "t = scipy.linalg.null_space(n.T)\n",
        "print(\"plane orthonormal basis:\\n\",t)"
      ],
      "metadata": {
        "colab": {
          "base_uri": "https://localhost:8080/"
        },
        "outputId": "44b75da9-ea1a-47d9-e56b-71f3472652b0",
        "id": "DgdGpkLN7J7u"
      },
      "execution_count": 23,
      "outputs": [
        {
          "output_type": "stream",
          "name": "stdout",
          "text": [
            "plane orthonormal basis:\n",
            " [[ 0. -1.]\n",
            " [ 1.  0.]\n",
            " [ 0.  0.]]\n"
          ]
        }
      ]
    },
    {
      "cell_type": "markdown",
      "source": [
        "### 4.3 Define feet positions and corresponding skew-symmeric matrices\n",
        "        \n"
      ],
      "metadata": {
        "id": "NDtnTk6e7J7w"
      }
    },
    {
      "cell_type": "code",
      "source": [
        "r1 = np.array([0,0,0])\n",
        "r2 = np.array([-4,0,0])\n",
        "r3 = np.array([-4,4,0])\n",
        "r4 = np.array([0,4,-1])\n",
        "rc = np.array([-2,2,0])\n",
        "\n",
        "R1 = skew(r1-rc)\n",
        "R2 = skew(r2-rc)\n",
        "R3 = skew(r3-rc)\n",
        "R4 = skew(r4-rc)"
      ],
      "metadata": {
        "id": "MY_je4aI7J7y"
      },
      "execution_count": 24,
      "outputs": []
    },
    {
      "cell_type": "code",
      "source": [
        "fig = plt.figure(figsize=(5,5))\n",
        "ax = fig.add_subplot(projection='3d')\n",
        "\n",
        "r = np.vstack([r1, r2, r3])\n",
        "vertices = [list(zip(r[:,0],r[:,1],r[:,2]))]\n",
        "poly = Poly3DCollection(vertices, alpha=0.3)\n",
        "ax.add_collection3d(poly)\n",
        "\n",
        "ax.scatter(xs = r[:,0], ys = r[:,1], zs = r[:,2], alpha=1, label = \"robot legs\")\n",
        "ax.scatter(rc[0],rc[1],rc[2], alpha=1, label = \"center of mass\") \n",
        "ax.scatter(r4[0],r4[1],r4[2], alpha=1, label = \"foot nailed on floor\")\n",
        "\n",
        "\n",
        "ax.set_xlim(-5,5)\n",
        "ax.set_ylim(-5,5)\n",
        "ax.set_zlim(0,5)\n",
        "ax.set_xlabel(\"x-axis\")\n",
        "ax.set_ylabel(\"y-axis\")\n",
        "ax.set_zlabel(\"z-axis\")\n",
        "ax.legend()\n",
        "plt.show()"
      ],
      "metadata": {
        "colab": {
          "base_uri": "https://localhost:8080/",
          "height": 303
        },
        "id": "FweceGRK7nQ-",
        "outputId": "4047dca5-daed-470f-aefd-2c1456e9717e"
      },
      "execution_count": 25,
      "outputs": [
        {
          "output_type": "display_data",
          "data": {
            "text/plain": [
              "<Figure size 360x360 with 1 Axes>"
            ],
            "image/png": "[encoded data removed]"
          },
          "metadata": {
            "needs_background": "light"
          }
        }
      ]
    },
    {
      "cell_type": "markdown",
      "source": [
        "### 4.4 Define A, b for the equality constraint"
      ],
      "metadata": {
        "id": "PS7mXVSS7J71"
      }
    },
    {
      "cell_type": "code",
      "source": [
        "row1 = np.hstack([np.eye(3), np.eye(3), np.eye(3), np.eye(3)])\n",
        "row2 = np.hstack([R1, R2, R3, R4])\n",
        "A = np.vstack([row1, row2])\n",
        "b = np.hstack([-m*g, 0, 0, 0])"
      ],
      "metadata": {
        "id": "Rk02w8Xt7J72"
      },
      "execution_count": 26,
      "outputs": []
    },
    {
      "cell_type": "markdown",
      "source": [
        "### 4.5 Problem solution"
      ],
      "metadata": {
        "id": "LhjQVVcM7J74"
      }
    },
    {
      "cell_type": "code",
      "source": [
        "f = cp.Variable(12) #f1_x, f1_y, f1_z .... f4_z\n",
        "obj_function = 0\n",
        "constraint = [A@f==b]\n",
        "\n",
        "for i in range(0,9,3): \n",
        "  constraint += [cp.norm2(t.T@f[i:i+3]) <= mu*n.T@f[i:i+3]]\n",
        "\n",
        "obj = cp.Minimize(obj_function)\n",
        "proj = cp.Problem(obj, constraint)\n",
        "result = proj.solve()\n",
        "\n",
        "print(\"The problem status is\", proj.status)\n",
        "print(\"The optimal value is\", result) # The optimal objective value is returned by `proj.solve()`.\n",
        "print(f\"f1 = {f.value[0:3]}.T\") # The optimal value for f is stored in `f.value`.\n",
        "print(f\"f2 = {f.value[3:6]}.T\")\n",
        "print(f\"f3 = {f.value[6:9]}.T\")\n",
        "print(f\"f4 = {f.value[9:12]}.T\")"
      ],
      "metadata": {
        "colab": {
          "base_uri": "https://localhost:8080/"
        },
        "outputId": "6feb4915-e4ea-4651-dd38-f19427f4d277",
        "id": "uNIiB4dX7J76"
      },
      "execution_count": 27,
      "outputs": [
        {
          "output_type": "stream",
          "name": "stdout",
          "text": [
            "The problem status is optimal\n",
            "The optimal value is 0.0\n",
            "f1 = [0.04105438 0.04105438 3.31257993].T\n",
            "f2 = [0.04049262 0.04049262 6.45676973].T\n",
            "f3 = [0.04105438 0.04105437 3.31257993].T\n",
            "f4 = [-0.12260137 -0.12260137  6.51807041].T\n"
          ]
        }
      ]
    },
    {
      "cell_type": "markdown",
      "source": [
        "## TASK5: Applied external force\n",
        "\n",
        "Assume the external force is given by $f_{e}$ applied at the center of mass\\\n",
        "Stability equations:\n",
        "\\begin{equation} \n",
        "\\begin{bmatrix} \n",
        "I_{3\\times3} & I_{3\\times3} & I_{3\\times3} & I_{3\\times3}\\\\ \n",
        "\\end{bmatrix} \\begin{bmatrix} \n",
        "f1\\\\ f2\\\\ f3\\\\ f4\\\\  \n",
        "\\end{bmatrix} = -mg+f_{e}\\\\ \n",
        "\\end{equation}\n",
        "\n",
        "There is no torque for this external force as it is at the center\n",
        "\\begin{equation} \n",
        "\\begin{bmatrix} \n",
        "R1_{3\\times3} & R2_{3\\times3} & R3_{3\\times3} & R4_{3\\times3}\\\\ \n",
        "\\end{bmatrix} \\begin{bmatrix} \n",
        "f1\\\\ f2\\\\ f3\\\\ f4\\\\  \n",
        "\\end{bmatrix} =  0_{3\\times1}\\\\ \n",
        "\\end{equation}\n",
        "\n",
        "Problem can be formulated as feasibility problem as follows:\\\n",
        "**Constraints**\n",
        "\\begin{equation} \n",
        "\\begin{bmatrix} \n",
        "I_{3\\times3} & I_{3\\times3} & I_{3\\times3} & I_{3\\times3}\\\\ \n",
        "R1_{3\\times3} & R2_{3\\times3} & R3_{3\\times3} & R4_{3\\times3}\n",
        "\\end{bmatrix} \\begin{bmatrix} \n",
        "f1\\\\ f2\\\\ f3\\\\ f4\\\\  \n",
        "\\end{bmatrix} = \n",
        "\\begin{bmatrix} -mg+f_{e}\\\\ 0_{3\\times1}\n",
        "\\end{bmatrix}\n",
        "\\end{equation}\n",
        "\n",
        "This can be written as \\begin{equation} Af = b \\tag{1}\\end{equation}\n",
        "This leads to \\begin{equation}f=A^{+}b + Nz \\tag{2}\\end{equation}\n",
        "where $N$ is the $NullSpace(A)$ and $z$ is the coordinates of $f$ in the basis $N$\n",
        "\n",
        "Let's introduce $Q$ matrix such that \\begin{equation}f=QA^{+}(f_{e}-mg) + QNz \\tag{3}\\end{equation}\n",
        "\n",
        "For the friction cone constraint, an approximation is made to represent the cone as a polytope as follows:\n",
        "\\begin{equation} \n",
        "\\lVert t^Tf_{i} \\rVert \\leq \\mu n^T f_{i} \\tag{4}\n",
        "\\end{equation} \n",
        "\n",
        "The approximation is $H-representation$ of a polytope\n",
        "\\begin{equation} Cf_{i} \\leq D \\tag{5} \\end{equation} \n",
        "\n",
        "thus \\begin{equation} c^{T}_{i}f \\leq d_{i} \\tag{6} \\end{equation} \n",
        "\n",
        "substitute eq[3] into eq[6], this leads to \\begin{equation}c^{T}_{i}(QA^{+}(f_{e}-mg) + QNz)  \\leq d_{i} \\tag{7} \\end{equation}\n",
        "\n",
        "\\begin{equation}c^{T}_{i}QA^{+}f_{e} + c^{T}_{i}QNz  \\leq d_{i} +c^{T}_{i}QA^{+}mg \\tag{8} \\end{equation} \\\n",
        "\n",
        "Let $h = d_{i} +c^{T}_{i}QA^{+}mg$, leads to \n",
        "\\begin{equation}c^{T}_{i}QA^{+}f_{e} + c^{T}_{i}QNz  \\leq h \\tag{9} \\end{equation} \\\n",
        "\n",
        "Given $\\lVert Mf_{e}+f_{e,0} \\rVert \\leq 1$ where M is positive definite matrix, and let $y=Mf_{e}+f_{e,0}$, so\n",
        "\n",
        "\\begin{equation}\\lVert y \\rVert \\leq 1 \\tag{10} \\end{equation} \\\n",
        "Then\n",
        "\\begin{equation}\\ f_{e} = M^{-1}(y-f_{e,0}) \\tag{11} \\end{equation} \\\n",
        "\n",
        "substitute eq[11] into eq[9], we get the following:\n",
        "\\begin{equation}\\ c^{T}_{i}QA^{+}M^{-1}y + c^{T}_{i}QNz  \\leq h + c^{T}_{i}QA^{+}M^{-1}f_{e,0} \\tag{12} \\end{equation} \\\n",
        "\n",
        "It is clear that worst-case scenario corresponds to the largest\n",
        "value of $c^{T}_{i}QA^{+}M^{-1}y$, meaning that $y$ should align with $c^{T}_{i}QA^{+}M^{-1}$ and have its maximum possible length $1$. From that we conclude that\n",
        "\n",
        "\\begin{equation}\\ y = \\frac{c^{T}_{i}QA^{+}M^{-1}}{\\lVert c^{T}_{i}QA^{+}M^{-1} \\rVert} \\tag{13} \\end{equation} \\\n",
        "\n",
        "substitute eq[13] into eq[12] leads to\n",
        "\\begin{equation}\\ \\lVert c^{T}_{i}QA^{+}M^{-1} \\rVert+ c^{T}_{i}QNz  \\leq h + c^{T}_{i}QA^{+}M^{-1}f_{e,0} \\tag{14} \\end{equation} \\\n",
        "\n",
        "Finally, the constraint can be written as linear constraint in the form of \n",
        "\\begin{equation}\\ c^{T}_{i}QNz  \\leq h + c^{T}_{i}QA^{+}M^{-1}f_{e,0} - \\lVert c^{T}_{i}QA^{+}M^{-1} \\rVert \\tag{15} \\end{equation} \\\n",
        "\n",
        "The optimazion problem: \n",
        "\\begin{aligned} \n",
        "\\min_{f} \\quad & 0\\\\ \n",
        "\\textrm{s.t.} \\quad & Af = b\\\\ \n",
        "  & c^{T}_{i}QNz  \\leq h + c^{T}_{i}QA^{+}M^{-1}f_{e,0} - \\lVert c^{T}_{i}QA^{+}M^{-1} \\rVert\n",
        "\\end{aligned}"
      ],
      "metadata": {
        "id": "5qUVng5vkw0C"
      }
    },
    {
      "cell_type": "markdown",
      "source": [
        "## Appendix"
      ],
      "metadata": {
        "id": "Upq2qJtx8XA1"
      }
    },
    {
      "cell_type": "code",
      "source": [
        "# Normal vector to a tilted plane\n",
        "n = np.array([[0],[0],[1]]) + np.random.randn(3,1)\n",
        "n = n / np.sqrt(np.sum(n**2))\n",
        "print(\"normal vector: \\nn = \", n.T)\n",
        "\n",
        "# Tangential vectors (vectors in the plane)\n",
        "x = y = 1\n",
        "z = (-n[0][0]*x - n[1][0]*y)/ n[2][0]\n",
        "t1 = np.array([[x],[y],[z]])\n",
        "t1 = t1 / np.sqrt(np.sum(t1**2))\n",
        "print(\"\\ntangential vector1: \\nt1 = \", t1.T)\n",
        "\n",
        "x, y = 1, 2\n",
        "z = (-n[0][0]*x - n[1][0]*y)/ n[2][0]\n",
        "t2 = np.array([[x],[y],[z]])\n",
        "t2 = t2 / np.sqrt(np.sum(t2**2))\n",
        "print(\"\\ntangential vector2: \\nt2 = \", t2.T)\n",
        "\n",
        "# Check dot product = 0\n",
        "print(\"\\ndot product(n.T, t1) = \", np.dot(n.T, t1)[0][0])\n",
        "print(\"dot product(n.T, t2) = \", np.dot(n.T, t2)[0][0])\n",
        "\n",
        "# Tilted plane orthonormal basis  \n",
        "t2 = t2 - t1*((np.dot(t1.T, t2) / np.dot(t1.T, t1))[0][0])\n",
        "print(\"dot product(t1.T, t2) = \", np.dot(t1.T, t2)[0][0])\n",
        "\n",
        "t = np.hstack([t1,t2])\n",
        "print(\"\\nplane orthonormal basis:\\n\",t)"
      ],
      "metadata": {
        "colab": {
          "base_uri": "https://localhost:8080/"
        },
        "id": "gQa8KcNs8Yuf",
        "outputId": "14938331-4700-46ed-ac33-21eea08a818e"
      },
      "execution_count": 28,
      "outputs": [
        {
          "output_type": "stream",
          "name": "stdout",
          "text": [
            "normal vector: \n",
            "n =  [[-0.28628025 -0.67764315  0.67737979]]\n",
            "\n",
            "tangential vector1: \n",
            "t1 =  [[0.49844607 0.49844607 0.70929756]]\n",
            "\n",
            "tangential vector2: \n",
            "t2 =  [[0.30326852 0.60653703 0.73494288]]\n",
            "\n",
            "dot product(n.T, t1) =  -5.551115123125783e-17\n",
            "dot product(n.T, t2) =  5.551115123125783e-17\n",
            "dot product(t1.T, t2) =  -9.71445146547012e-17\n",
            "\n",
            "plane orthonormal basis:\n",
            " [[ 0.49844607 -0.18260784]\n",
            " [ 0.49844607  0.12066068]\n",
            " [ 0.70929756  0.04353225]]\n"
          ]
        }
      ]
    }
  ]
}